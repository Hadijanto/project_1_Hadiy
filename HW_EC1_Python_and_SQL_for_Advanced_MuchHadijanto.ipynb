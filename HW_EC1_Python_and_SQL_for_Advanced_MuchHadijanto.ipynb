{
  "nbformat": 4,
  "nbformat_minor": 0,
  "metadata": {
    "colab": {
      "provenance": []
    },
    "kernelspec": {
      "name": "python3",
      "display_name": "Python 3"
    },
    "language_info": {
      "name": "python"
    }
  },
  "cells": [
    {
      "cell_type": "code",
      "execution_count": null,
      "metadata": {
        "colab": {
          "base_uri": "https://localhost:8080/"
        },
        "id": "E0foG_CEvdBJ",
        "outputId": "21110b08-c749-4164-98ae-d57161c82b1e"
      },
      "outputs": [
        {
          "output_type": "stream",
          "name": "stdout",
          "text": [
            "\n",
            "index i = 0, index j = 0\n",
            "nums1[i] = 4, nums2[j] = 9\n",
            "jawaban : Belum berhasil \n",
            "Cari lagi !\n",
            "\n",
            "index i = 0, index j = 1\n",
            "nums1[i] = 4, nums2[j] = 4\n",
            "BERHASIL\n",
            "jawaban = [4]\n",
            "\n",
            "index i = 1, index j = 0\n",
            "nums1[i] = 9, nums2[j] = 9\n",
            "BERHASIL\n",
            "jawaban = [9]\n",
            "\n",
            "index i = 2, index j = 0\n",
            "nums1[i] = 5, nums2[j] = 9\n",
            "jawaban : Belum berhasil \n",
            "Cari lagi !\n",
            "\n",
            "index i = 2, index j = 1\n",
            "nums1[i] = 5, nums2[j] = 4\n",
            "jawaban : Belum berhasil \n",
            "Cari lagi !\n",
            "\n",
            "index i = 2, index j = 2\n",
            "nums1[i] = 5, nums2[j] = 9\n",
            "jawaban : Belum berhasil \n",
            "Cari lagi !\n",
            "\n",
            "index i = 2, index j = 3\n",
            "nums1[i] = 5, nums2[j] = 8\n",
            "jawaban : Belum berhasil \n",
            "Cari lagi !\n",
            "\n",
            "index i = 2, index j = 4\n",
            "nums1[i] = 5, nums2[j] = 4\n",
            "jawaban : Belum berhasil \n",
            "Cari lagi !\n"
          ]
        }
      ],
      "source": [
        "nums1 = [4,9,5]\n",
        "nums2 = [9,4,9,8,4]\n",
        "for i in range(len(nums1)):\n",
        "  for j in range(len(nums2)):\n",
        "    print('')\n",
        "    print(f\"index i = {i}, index j = {j}\")\n",
        "    print(f\"nums1[i] = {nums1[i]}, nums2[j] = {nums2[j]}\")\n",
        "    if nums1[i] == nums2[j]:\n",
        "      print(f\"BERHASIL\")\n",
        "      print(f\"jawaban = {[nums1[i]]}\")\n",
        "      break\n",
        "    elif nums1[i] != nums2[j]:\n",
        "      print(f\"jawaban : Belum berhasil \")\n",
        "      print(f\"Cari lagi !\")"
      ]
    }
  ]
}